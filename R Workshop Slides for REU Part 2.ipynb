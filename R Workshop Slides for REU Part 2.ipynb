{
 "cells": [
  {
   "cell_type": "markdown",
   "metadata": {},
   "source": [
    "# Introduction to R: Part 2\n",
    "##### <font color=gray>Statistical Consulting Center| University of North Carolina at Greensboro </span>\n",
    "\n",
    "## Generating data and simulation\n",
    "\n",
    "In research settings, it is often desired to generate data with known characteristics in order to \"test\" the performance of methods. \n",
    "*Monte Carlo* methods generally refer to simulation techniques when sampling repeatedly from a known probability distribution. \n",
    "  \n",
    "\n",
    "### Example: Testing the Central Limit Theorem.   \n",
    "The CLT states that the sampling distribution of the sample mean, $\\bar{X}$, becomes normal as the sample size, $n$, becomes large. More precisely, that  \n",
    "$Z_{n}=\\frac{\\bar{X_n}-\\mu}{\\sigma /\\sqrt{n}}\\rightarrow N(0,1)$ as $n\\rightarrow \\infty.$   \n",
    "\n",
    "However, what about finite $n$?    \n",
    "We can simulate sampling from theoretical distributions and \"check\" if the approximation is sufficient.  \n",
    "\n",
    "We illustrate several new functions for carrying out the simulation.  \n",
    "\n",
    "- `set.seed()`: begins the random number generation algorithm at a specific starting point. The same set of numbers will be generated each time.\n",
    "- `numeric()`: creates a vector, *z*, of a specified size to hold results.\n",
    "- `for{}`: repeatedly performs a calculation a specified number of times.\n",
    "- `rnorm()`: generates a random sample of size $n=10$ from a normal distribution with mean 20 and standard deviation 3.  "
   ]
  },
  {
   "cell_type": "code",
   "execution_count": null,
   "metadata": {},
   "outputs": [],
   "source": [
    "#Normal distribution\n",
    "set.seed(4123)\n",
    "z <- numeric(10000)\n",
    "for (i in 1:10000) {\n",
    "x <- rnorm(10,mean=20, sd=3)\n",
    "z[i] <- (mean(x)-20)*sqrt(10)/3\n",
    "}"
   ]
  },
  {
   "cell_type": "markdown",
   "metadata": {},
   "source": [
    "We can construct a histogram with normal curve superimposed to check the fit:  "
   ]
  },
  {
   "cell_type": "code",
   "execution_count": null,
   "metadata": {},
   "outputs": [],
   "source": [
    "hist(z, freq=F)\n",
    "curve(dnorm(x),from=min(z),to=max(z), add=T)"
   ]
  },
  {
   "cell_type": "markdown",
   "metadata": {},
   "source": [
    "R contains many built-in functions for sampling from known probability distributions. The code below used `rexp()` to generate a random sample of size $n=100$ from an exponential distribution with mean 20.  "
   ]
  },
  {
   "cell_type": "code",
   "execution_count": null,
   "metadata": {},
   "outputs": [],
   "source": [
    "#Exponential distribution\n",
    "set.seed(4123)\n",
    "z <- numeric(10000)\n",
    "for (i in 1:10000) {\n",
    "x <- rexp(100,rate=1/20)\n",
    "z[i] <- (mean(x)-20)*sqrt(100)/20\n",
    "}"
   ]
  },
  {
   "cell_type": "markdown",
   "metadata": {},
   "source": [
    "Again, we construct a histogram with normal curve superimposed to check the fit:  "
   ]
  },
  {
   "cell_type": "code",
   "execution_count": null,
   "metadata": {},
   "outputs": [],
   "source": [
    "hist(z, freq=F)\n",
    "curve(dnorm(x),from=min(z),to=max(z), add=T)"
   ]
  },
  {
   "cell_type": "markdown",
   "metadata": {},
   "source": [
    "### Basic Monte Carlo Estimation  \n",
    "Suppose we wish to investigate the properties of an estimator whose theoretical properties are unknown. In general, we are interested in the mean, standard deviation and probability distribution.  \n",
    "These can all be estimated by simulation for any sample statistic.  \n",
    "  \n",
    "***\n",
    "#### **Example 7.1.**  \n",
    "Take a random sample of size $n=2$ from a $N(0,1)$ distribution, and compute the statistic $|X_{1}-X_{2}|$. We wish to estimate $\\theta=\\mu=E(|X_{1}-X_{2}|).$  \n",
    "We can simulate repeated samples from a $N(0,1)$ distribution and compute an estimate, $\\hat\\theta$ of $\\theta.$  \n",
    "*Algorithm*:  \n",
    "1. Generate a random sample of size 2 from a $N(0,1)$ distribution;  \n",
    "2. Calculate $\\hat \\theta$;  \n",
    "3. Repeat *m* times;  \n",
    "4. Compute estimate of $SE(\\hat \\theta).$"
   ]
  },
  {
   "cell_type": "code",
   "execution_count": null,
   "metadata": {},
   "outputs": [],
   "source": [
    "set.seed(4123)\n",
    "m <- 1000\n",
    "g <- numeric(m)\n",
    "for (i in 1:m) {\n",
    "  x <- rnorm(2)\n",
    "  g[i] <- abs(x[1] - x[2])\n",
    "}\n",
    "est <- mean(g)\n",
    "est"
   ]
  },
  {
   "cell_type": "markdown",
   "metadata": {},
   "source": [
    "***\n",
    "### Monte Carlo estimator of the standard error of the mean  \n",
    "$SE(\\bar{X})= \\sqrt{Var(\\bar X)}= \\sqrt{Var(X)/n}.$ In general, $Var(X)$ will be unknown, and so we can use the \"plug-in\" estimator from the sample, in this case the sample variance.  "
   ]
  },
  {
   "cell_type": "code",
   "execution_count": null,
   "metadata": {},
   "outputs": [],
   "source": [
    "sqrt(sum((g - mean(g))^2))/m"
   ]
  },
  {
   "cell_type": "markdown",
   "metadata": {},
   "source": [
    "### Using MSE to assess precision\n",
    "For an arbitrary estimator a formula for $Var(\\hat \\theta)$ may not be known. In that case, the mean square error ($MSE$) can be calculated as a substitute.  \n",
    "\"Recall\" that $MSE(\\hat\\theta)=E[(\\hat\\theta-\\theta)^2]=Var(\\hat\\theta)-[bias(\\hat\\theta)]^2.$  \n",
    "The Monte Carlo estimator of $MSE(\\hat \\theta)$ is $\\widehat{MSE}=\\frac{1}{m} \\sum_{j=1}^m (\\hat \\theta^{(j)}-\\theta)^2,$ where $\\hat \\theta^{(j)}$ is calculated on the $j^{th}$ Monte Carlo sample.  \n",
    "*Algorithm*: See p.186. \n",
    "***\n",
    "#### **Example 7.2.**"
   ]
  },
  {
   "cell_type": "code",
   "execution_count": null,
   "metadata": {},
   "outputs": [],
   "source": [
    "set.seed(4123)\n",
    "n <- 20\n",
    "m <- 1000\n",
    "tmean <- numeric(m)\n",
    "for (i in 1:m) {\n",
    "  x <- sort(rnorm(n))\n",
    "  tmean[i] <- sum(x[2:(n-1)]) / (n-2)\n",
    "}\n",
    "mse <- mean(tmean^2)\n",
    "mse\n",
    "sqrt(sum((tmean - mean(tmean))^2)) / m    #se\n",
    "\n",
    "n <- 20\n",
    "m <- 1000\n",
    "tmean <- numeric(m)\n",
    "for (i in 1:m) {\n",
    "  x <- sort(rnorm(n))\n",
    "  tmean[i] <- median(x)\n",
    "}\n",
    "mse <- mean(tmean^2)\n",
    "mse\n",
    "sqrt(sum((tmean - mean(tmean))^2)) / m "
   ]
  },
  {
   "cell_type": "markdown",
   "metadata": {},
   "source": [
    "# Try Yourself\n",
    "If you would like to try something by yourself, you can always click the `+` button on the menu bar to add more cells and start typing."
   ]
  },
  {
   "cell_type": "code",
   "execution_count": null,
   "metadata": {},
   "outputs": [],
   "source": []
  },
  {
   "cell_type": "code",
   "execution_count": null,
   "metadata": {},
   "outputs": [],
   "source": []
  },
  {
   "cell_type": "code",
   "execution_count": null,
   "metadata": {},
   "outputs": [],
   "source": []
  },
  {
   "cell_type": "code",
   "execution_count": null,
   "metadata": {},
   "outputs": [],
   "source": []
  },
  {
   "cell_type": "code",
   "execution_count": null,
   "metadata": {},
   "outputs": [],
   "source": []
  },
  {
   "cell_type": "code",
   "execution_count": null,
   "metadata": {},
   "outputs": [],
   "source": []
  },
  {
   "cell_type": "code",
   "execution_count": null,
   "metadata": {},
   "outputs": [],
   "source": []
  },
  {
   "cell_type": "code",
   "execution_count": null,
   "metadata": {},
   "outputs": [],
   "source": []
  },
  {
   "cell_type": "code",
   "execution_count": null,
   "metadata": {},
   "outputs": [],
   "source": []
  },
  {
   "cell_type": "code",
   "execution_count": null,
   "metadata": {},
   "outputs": [],
   "source": []
  },
  {
   "cell_type": "code",
   "execution_count": null,
   "metadata": {},
   "outputs": [],
   "source": []
  },
  {
   "cell_type": "code",
   "execution_count": null,
   "metadata": {},
   "outputs": [],
   "source": []
  },
  {
   "cell_type": "code",
   "execution_count": null,
   "metadata": {},
   "outputs": [],
   "source": []
  },
  {
   "cell_type": "code",
   "execution_count": null,
   "metadata": {},
   "outputs": [],
   "source": []
  },
  {
   "cell_type": "code",
   "execution_count": null,
   "metadata": {},
   "outputs": [],
   "source": []
  }
 ],
 "metadata": {
  "kernelspec": {
   "display_name": "R",
   "language": "R",
   "name": "ir"
  },
  "language_info": {
   "codemirror_mode": "r",
   "file_extension": ".r",
   "mimetype": "text/x-r-source",
   "name": "R",
   "pygments_lexer": "r",
   "version": "3.4.1"
  }
 },
 "nbformat": 4,
 "nbformat_minor": 2
}
